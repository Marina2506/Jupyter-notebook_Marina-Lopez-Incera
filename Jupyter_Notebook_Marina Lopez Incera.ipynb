{
 "cells": [
  {
   "cell_type": "markdown",
   "metadata": {},
   "source": [
    "<center>\n",
    "    <img src=\"https://cf-courses-data.s3.us.cloud-object-storage.appdomain.cloud/IBMDeveloperSkillsNetwork-DS0105EN-SkillsNetwork/labs/Module2/images/SN_web_lightmode.png\" width=\"300\" alt=\"cognitiveclass.ai logo\"  />\n",
    "</center>\n"
   ]
  },
  {
   "cell_type": "markdown",
   "metadata": {},
   "source": [
    "#### Add your code below following the instructions given in the course\n"
   ]
  },
  {
   "cell_type": "markdown",
   "metadata": {},
   "source": [
    "<a href=\"https://dataplatform.cloud.ibm.com/gallery\">IBM Cloud Gallery</a> \n"
   ]
  },
  {
   "cell_type": "markdown",
   "metadata": {},
   "source": [
    "# My Jupyter Notebook on IBM Watson Studio"
   ]
  },
  {
   "cell_type": "markdown",
   "metadata": {},
   "source": [
    "**Marina López Incera** \n",
    "PhD student in Parkinson's disease research"
   ]
  },
  {
   "cell_type": "markdown",
   "metadata": {},
   "source": [
    "*I am interested in data science because I want to be able to learn a new way to study and interpret data, as this will help me to obtain better hypothesis and results for my thesis*"
   ]
  },
  {
   "cell_type": "markdown",
   "metadata": {},
   "source": [
    "### The below should print 'Government investment should have more focus on Parkinson's Disease research'"
   ]
  },
  {
   "cell_type": "code",
   "execution_count": 3,
   "metadata": {},
   "outputs": [
    {
     "name": "stdout",
     "output_type": "stream",
     "text": [
      "Government investment should have more focus on Parkinson's Disease research\n"
     ]
    }
   ],
   "source": [
    "print(\"Government investment should have more focus on Parkinson's Disease research\")"
   ]
  },
  {
   "cell_type": "markdown",
   "metadata": {},
   "source": [
    "A table with money invested in Parkinson's Disease research in different countries is showed down below\n",
    "\n",
    "| Country | Money invested |\n",
    "| ------ | ------ |\n",
    "| Spain | 10 million dollars |\n",
    "| England | 28 million dollars |\n",
    "\n",
    "One of the reasons why investment should increase is the importance of the economic burden. To see more thoroughly, here is a link were you can see the current and projected future economic burden of Parkinson's Disease in USA:https://www.nature.com/articles/s41531-020-0117-1\n",
    "\n",
    "Now we are going to see a list of reasons why investment should increase in Parkinson's Disease:\n",
    "<ul>\n",
    "<li>The economic burden for people suffering the disease is going to increase</li>\n",
    "<li>Is the second most common degenerative disease</li>\n",
    "<li>With more research preventive treatment could be found</li>\n",
    "</ul>\n"
   ]
  },
  {
   "cell_type": "code",
   "execution_count": null,
   "metadata": {},
   "outputs": [],
   "source": []
  }
 ],
 "metadata": {
  "kernelspec": {
   "display_name": "Python",
   "language": "python",
   "name": "conda-env-python-py"
  },
  "language_info": {
   "codemirror_mode": {
    "name": "ipython",
    "version": 3
   },
   "file_extension": ".py",
   "mimetype": "text/x-python",
   "name": "python",
   "nbconvert_exporter": "python",
   "pygments_lexer": "ipython3",
   "version": "3.7.12"
  }
 },
 "nbformat": 4,
 "nbformat_minor": 4
}
